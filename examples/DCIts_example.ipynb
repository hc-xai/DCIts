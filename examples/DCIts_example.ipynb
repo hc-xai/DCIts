{
 "cells": [
  {
   "cell_type": "markdown",
   "id": "ca4957e7-95d1-499d-ba19-de336ea84504",
   "metadata": {},
   "source": [
    "# Imports"
   ]
  },
  {
   "cell_type": "code",
   "execution_count": 1,
   "id": "27a585b4-264d-4fc7-99f3-44cdbf4f4ef8",
   "metadata": {},
   "outputs": [],
   "source": [
    "%load_ext autoreload\n",
    "%autoreload 2"
   ]
  },
  {
   "cell_type": "code",
   "execution_count": 2,
   "id": "d18db821-162a-42d0-ac49-9d3c8c93365e",
   "metadata": {},
   "outputs": [],
   "source": [
    "import sys\n",
    "sys.path.append(\"..\")"
   ]
  },
  {
   "cell_type": "code",
   "execution_count": 3,
   "id": "b7e1c89e-2702-4573-ac0d-821c7c26d493",
   "metadata": {},
   "outputs": [],
   "source": [
    "import pickle\n",
    "import torch\n",
    "import numpy as np\n",
    "import pandas as pd\n",
    "import datetime as dt\n",
    "import random\n",
    "from matplotlib import pyplot as plt\n",
    "\n",
    "from IPython.display import display, HTML\n",
    "from torch.utils.data import Dataset,DataLoader,random_split\n",
    "\n",
    "from src.dcits import DCITS\n",
    "from src.utils import model_data_from_time_series,get_data_loaders_and_eval_datasets,train_model,evaluate_model,TimeSeriesDataset"
   ]
  },
  {
   "cell_type": "code",
   "execution_count": 4,
   "id": "dee22b4b-99f1-4fc9-bac1-c9eeb50e6b64",
   "metadata": {},
   "outputs": [],
   "source": [
    "# Check if CUDA is available\n",
    "if torch.cuda.is_available():\n",
    "    # Specify the device as the second GPU\n",
    "    device = torch.device(\"cuda:0\")\n",
    "else:\n",
    "    print(\"CUDA is not available. Using CPU instead.\")\n",
    "    device = torch.device(\"cpu\")"
   ]
  },
  {
   "cell_type": "code",
   "execution_count": 5,
   "id": "8949b154-06a9-4bdf-9112-8e8639489cbd",
   "metadata": {},
   "outputs": [],
   "source": [
    "seed=1000\n",
    "np.random.seed(seed)\n",
    "torch.manual_seed(seed)\n",
    "random.seed(seed)"
   ]
  },
  {
   "cell_type": "markdown",
   "id": "1d4d6e09-9933-448f-b311-6d1857b75337",
   "metadata": {},
   "source": [
    "# Dataset 7"
   ]
  },
  {
   "cell_type": "code",
   "execution_count": 6,
   "id": "87d4fd83-6753-4fcd-ac9b-6e292772e5e7",
   "metadata": {},
   "outputs": [],
   "source": [
    "time_series=pickle.load(open('../data/dataset7.pickle','rb'))"
   ]
  },
  {
   "cell_type": "code",
   "execution_count": 7,
   "id": "94601e48-f121-4a55-83a0-08e5f45430e6",
   "metadata": {},
   "outputs": [],
   "source": [
    "window_len=10\n",
    "num_of_timeseries=5\n",
    "\n",
    "model=DCITS(num_of_timeseries,window_len,in_ch=16,temp=0.1)\n",
    "model=model.to(device)\n",
    "\n",
    "loss_fn = torch.nn.MSELoss()\n",
    "optimizer = torch.optim.Adam(model.parameters(), lr=0.001,weight_decay=0.0001)"
   ]
  },
  {
   "cell_type": "code",
   "execution_count": 8,
   "id": "18f5a671-e497-48a4-a871-4df2a42326a3",
   "metadata": {},
   "outputs": [
    {
     "name": "stderr",
     "output_type": "stream",
     "text": [
      "/tmp/ipykernel_22522/2583987824.py:1: UserWarning: To copy construct from a tensor, it is recommended to use sourceTensor.clone().detach() or sourceTensor.clone().detach().requires_grad_(True), rather than torch.tensor(sourceTensor).\n",
      "  time_series=torch.tensor(time_series)\n"
     ]
    }
   ],
   "source": [
    "time_series=torch.tensor(time_series)"
   ]
  },
  {
   "cell_type": "code",
   "execution_count": 9,
   "id": "037c6098-9738-4158-acbc-cdfe95878e1e",
   "metadata": {},
   "outputs": [],
   "source": [
    "X,y=model_data_from_time_series(time_series,device,remove_first=1000,window_len=window_len)"
   ]
  },
  {
   "cell_type": "code",
   "execution_count": 10,
   "id": "0b6f4081-06f5-4815-97c8-7844b07607fd",
   "metadata": {},
   "outputs": [],
   "source": [
    "train_one_epoch, valid_one_epoch, test_dataset=get_data_loaders_and_eval_datasets(X,y,optimizer,loss_fn)"
   ]
  },
  {
   "cell_type": "code",
   "execution_count": 11,
   "id": "8f73935f-4d4b-4b21-b644-87e278f0b533",
   "metadata": {},
   "outputs": [
    {
     "name": "stdout",
     "output_type": "stream",
     "text": [
      "Epoch 1/20\n",
      "  Training Loss: 0.00079595\n",
      "  Validation Loss: 0.00830324\n",
      "Epoch 2/20\n",
      "  Training Loss: 0.00053684\n",
      "  Validation Loss: 0.00592379\n",
      "Epoch 3/20\n",
      "  Training Loss: 0.00053035\n",
      "  Validation Loss: 0.00502129\n",
      "Epoch 4/20\n",
      "  Training Loss: 0.00045007\n",
      "  Validation Loss: 0.00496962\n",
      "Epoch 5/20\n",
      "  Training Loss: 0.00040001\n",
      "  Validation Loss: 0.00453590\n",
      "Epoch 6/20\n",
      "  Training Loss: 0.00042038\n",
      "  Validation Loss: 0.00438534\n",
      "Epoch 7/20\n",
      "  Training Loss: 0.00035392\n",
      "  Validation Loss: 0.00399277\n",
      "Epoch 8/20\n",
      "  Training Loss: 0.00036152\n",
      "  Validation Loss: 0.00470856\n",
      "Epoch 9/20\n",
      "  Training Loss: 0.00038354\n",
      "  Validation Loss: 0.00343293\n",
      "Epoch 10/20\n",
      "  Training Loss: 0.00037443\n",
      "  Validation Loss: 0.00538644\n",
      "Epoch 11/20\n",
      "  Training Loss: 0.00034613\n",
      "  Validation Loss: 0.00342112\n",
      "Epoch 12/20\n",
      "  Training Loss: 0.00032112\n",
      "  Validation Loss: 0.00325248\n",
      "Epoch 13/20\n",
      "  Training Loss: 0.00034311\n",
      "  Validation Loss: 0.00337824\n",
      "Epoch 14/20\n",
      "  Training Loss: 0.00035834\n",
      "  Validation Loss: 0.00428641\n",
      "Epoch 15/20\n",
      "  Training Loss: 0.00031544\n",
      "  Validation Loss: 0.00351453\n",
      "Epoch 16/20\n",
      "  Training Loss: 0.00033912\n",
      "  Validation Loss: 0.00334977\n",
      "Epoch 17/20\n",
      "  Training Loss: 0.00032589\n",
      "  Validation Loss: 0.00318430\n",
      "Epoch 18/20\n",
      "  Training Loss: 0.00031542\n",
      "  Validation Loss: 0.00328581\n",
      "Epoch 19/20\n",
      "  Training Loss: 0.00032595\n",
      "  Validation Loss: 0.00394609\n",
      "Epoch 20/20\n",
      "  Training Loss: 0.00029104\n",
      "  Validation Loss: 0.00336548\n"
     ]
    }
   ],
   "source": [
    "model=train_model(model,train_one_epoch,valid_one_epoch,epochs=20,enable_writer=False,save_model=False)"
   ]
  },
  {
   "cell_type": "code",
   "execution_count": 12,
   "id": "78f9e4e9-5796-4e82-94e7-0938d2b7443a",
   "metadata": {},
   "outputs": [],
   "source": [
    "idx = test_dataset.indices\n",
    "x = test_dataset.dataset.X[idx]\n",
    "y, f, c = model(x) "
   ]
  },
  {
   "cell_type": "code",
   "execution_count": 13,
   "id": "4ae4b6d3-60da-4895-9293-7aa36b685cd9",
   "metadata": {},
   "outputs": [
    {
     "data": {
      "image/png": "[encoded data removed]",
      "text/plain": [
       "<Figure size 432x288 with 2 Axes>"
      ]
     },
     "metadata": {
      "needs_background": "light"
     },
     "output_type": "display_data"
    },
    {
     "data": {
      "image/png": "[encoded data removed]",
      "text/plain": [
       "<Figure size 432x288 with 2 Axes>"
      ]
     },
     "metadata": {
      "needs_background": "light"
     },
     "output_type": "display_data"
    },
    {
     "data": {
      "image/png": "[encoded data removed]",
      "text/plain": [
       "<Figure size 432x288 with 2 Axes>"
      ]
     },
     "metadata": {
      "needs_background": "light"
     },
     "output_type": "display_data"
    },
    {
     "data": {
      "image/png": "[encoded data removed]",
      "text/plain": [
       "<Figure size 432x288 with 2 Axes>"
      ]
     },
     "metadata": {
      "needs_background": "light"
     },
     "output_type": "display_data"
    },
    {
     "data": {
      "image/png": "[encoded data removed]",
      "text/plain": [
       "<Figure size 432x288 with 2 Axes>"
      ]
     },
     "metadata": {
      "needs_background": "light"
     },
     "output_type": "display_data"
    }
   ],
   "source": [
    "alpha=(f*c).mean(0).detach().cpu().numpy()\n",
    "for i in range(num_of_timeseries):\n",
    "    plt.imshow(alpha[i],cmap=plt.cm.binary_r)\n",
    "    ax = plt.gca()\n",
    "    ax.set_xticks([0, 2, 4, 6, 8])\n",
    "    ax.set_xticklabels([-10, -8, -6, -4, -2])\n",
    "    plt.title(rf'$\\alpha_{i+1}$')\n",
    "    plt.colorbar()\n",
    "    plt.show()"
   ]
  },
  {
   "cell_type": "code",
   "execution_count": 14,
   "id": "ee20f983-d3f5-48b8-a42b-ff0b731d908b",
   "metadata": {},
   "outputs": [],
   "source": [
    "# Calculate beta_tilda values\n",
    "beta_tilda=(f*c).abs().mean(0).sum(2).detach().cpu().numpy()"
   ]
  },
  {
   "cell_type": "code",
   "execution_count": 15,
   "id": "f6d65b46-20bb-4fd3-96d7-286b01987457",
   "metadata": {},
   "outputs": [
    {
     "data": {
      "text/plain": [
       "Text(0.5, 1.0, 'Mean $\\\\beta$ values')"
      ]
     },
     "execution_count": 15,
     "metadata": {},
     "output_type": "execute_result"
    },
    {
     "data": {
      "image/png": "[encoded data removed]",
      "text/plain": [
       "<Figure size 432x288 with 2 Axes>"
      ]
     },
     "metadata": {
      "needs_background": "light"
     },
     "output_type": "display_data"
    }
   ],
   "source": [
    "# Plot beta values\n",
    "plt.imshow(beta_tilda/beta_tilda.sum(1,keepdims=True),cmap=plt.cm.binary)\n",
    "plt.colorbar()\n",
    "plt.tight_layout()\n",
    "plt.title(rf'Mean $\\beta$ values')"
   ]
  },
  {
   "cell_type": "markdown",
   "id": "b4d850e7-b601-4fa0-86eb-2edfa00fa2ea",
   "metadata": {},
   "source": [
    "# VAR(2) Model "
   ]
  },
  {
   "cell_type": "markdown",
   "id": "1f5df3ef-6aa9-4911-8de6-f0f517e7fadd",
   "metadata": {
    "jp-MarkdownHeadingCollapsed": true,
    "tags": []
   },
   "source": [
    "We have a vector autoregressive (VAR) process of order 2 with the following form:\n",
    "\n",
    "$$\n",
    "\\begin{pmatrix}\n",
    "Y_{1,t} \\\\\n",
    "Y_{2,t} \\\\\n",
    "Y_{3,t}\n",
    "\\end{pmatrix} =\n",
    "\\begin{pmatrix}\n",
    "c_1 \\\\\n",
    "c_2 \\\\\n",
    "c_3\n",
    "\\end{pmatrix} +\n",
    "\\begin{pmatrix}\n",
    "a_{11,1} & a_{12,1} & a_{13,1} \\\\\n",
    "a_{21,1} & a_{22,1} & a_{23,1} \\\\\n",
    "a_{31,1} & a_{32,1} & a_{33,1}\n",
    "\\end{pmatrix}\n",
    "\\begin{pmatrix}\n",
    "Y_{1,t-1} \\\\\n",
    "Y_{2,t-1} \\\\\n",
    "Y_{3,t-1}\n",
    "\\end{pmatrix} +\n",
    "\\begin{pmatrix}\n",
    "a_{11,2} & a_{12,2} & a_{13,2} \\\\\n",
    "a_{21,2} & a_{22,2} & a_{23,2} \\\\\n",
    "a_{31,2} & a_{32,2} & a_{33,2}\n",
    "\\end{pmatrix}\n",
    "\\begin{pmatrix}\n",
    "Y_{1,t-2} \\\\\n",
    "Y_{2,t-2} \\\\\n",
    "Y_{3,t-2}\n",
    "\\end{pmatrix} +\n",
    "\\begin{pmatrix}\n",
    "u_{1,t} \\\\\n",
    "u_{2,t} \\\\\n",
    "u_{3,t}\n",
    "\\end{pmatrix}\n",
    "$$\n",
    "\n",
    "where:\n",
    "- $Y_{1,t}$ is the first variable at time $t$,\n",
    "- $Y_{2,t}$ is the second variable at time $t$,\n",
    "- $Y_{3,t}$ is the third variable at time $t$,\n",
    "- $c_1 = 0.1$, $c_2 = 0.05$, $c_3 = 0$ are the constants (intercepts).\n",
    "\n",
    "The first coefficient matrix for the lag-1 terms is:\n",
    "\n",
    "$$\n",
    "\\begin{pmatrix}\n",
    "a_{11,1} & a_{12,1} & a_{13,1} \\\\\n",
    "a_{21,1} & a_{22,1} & a_{23,1} \\\\\n",
    "a_{31,1} & a_{32,1} & a_{33,1}\n",
    "\\end{pmatrix} =\n",
    "\\begin{pmatrix}\n",
    "0.4 & 0.1 & 0.05 \\\\\n",
    "0.1 & 0.4 & 0.1 \\\\\n",
    "0.05 & 0.1 & 0.4\n",
    "\\end{pmatrix}\n",
    "$$\n",
    "\n",
    "The second coefficient matrix for the lag-2 terms is:\n",
    "\n",
    "$$\n",
    "\\begin{pmatrix}\n",
    "a_{11,2} & a_{12,2} & a_{13,2} \\\\\n",
    "a_{21,2} & a_{22,2} & a_{23,2} \\\\\n",
    "a_{31,2} & a_{32,2} & a_{33,2}\n",
    "\\end{pmatrix} =\n",
    "\\begin{pmatrix}\n",
    "0.2 & 0.05 & 0.02 \\\\\n",
    "0.05 & 0.2 & 0.05 \\\\\n",
    "0.02 & 0.05 & 0.2\n",
    "\\end{pmatrix}\n",
    "$$\n",
    "\n",
    "The noise error terms $u_{1,t}$, $u_{2,t}$, and $u_{3,t}$ are sampled from a Gaussian distribution with variance that produces noise one-tenth of the signal. Specifically:\n",
    "\n",
    "$$\n",
    "u_{i,t} \\sim \\mathcal{N}(0, \\sigma^2), \\quad \\text{where} \\quad \\sigma = \\frac{\\max(Y[:10,:])}{10}\n",
    "$$"
   ]
  },
  {
   "cell_type": "code",
   "execution_count": 16,
   "id": "eff4a1c1-a07d-4e3b-b44e-cc71a4366480",
   "metadata": {},
   "outputs": [],
   "source": [
    "\n",
    "# Define the total number of time steps and the number of initial steps to discard\n",
    "n_total_steps = 20000\n",
    "n_discard_steps = 1000\n",
    "\n",
    "# Initialize arrays to store the time series data\n",
    "Y = np.zeros((n_total_steps, 3))\n",
    "\n",
    "# Define the coefficients\n",
    "c = np.array([0.1, 0.05, 0.0])\n",
    "\n",
    "A1 = np.array([\n",
    "    [0.4, 0.1, 0.05],\n",
    "    [0.1, 0.4, 0.1],\n",
    "    [0.05, 0.1, 0.4]\n",
    "])\n",
    "\n",
    "A2 = np.array([\n",
    "    [0.2, 0.05, 0.02],\n",
    "    [0.05, 0.2, 0.05],\n",
    "    [0.02, 0.05, 0.2]\n",
    "])"
   ]
  },
  {
   "cell_type": "code",
   "execution_count": 17,
   "id": "6482ec74-0ddf-4c7c-af72-7919b5bdbcbd",
   "metadata": {},
   "outputs": [],
   "source": [
    "# Initialize the first 10 steps from N(0,1)\n",
    "Y[:10, :] = np.random.normal(0, 1, (10, 3))\n",
    "\n",
    "# Determine max absolute value of the initial signal\n",
    "initial_max_signal = np.max(np.abs(Y[:10]))\n",
    "\n",
    "# Define the noise sigma\n",
    "sigma = initial_max_signal / 10"
   ]
  },
  {
   "cell_type": "code",
   "execution_count": 18,
   "id": "db247da8-2494-46a9-8007-4cba1ec7f858",
   "metadata": {},
   "outputs": [],
   "source": [
    "# Generate the time series data\n",
    "for t in range(10, n_total_steps):\n",
    "    Y_t_minus_1 = Y[t-1, :]\n",
    "    Y_t_minus_2 = Y[t-2, :]\n",
    "    Y_t_minus_3 = Y[t-3, :]\n",
    "    \n",
    "    Y_t = c + A1 @ Y_t_minus_1 + A2 @ Y_t_minus_2  + np.random.normal(0, sigma, 3)\n",
    "    #+ A3 @ Y_t_minus_3\n",
    "    Y[t, :] = Y_t\n",
    "\n",
    "# Discard the first 100 steps\n",
    "Y = Y[n_discard_steps:]"
   ]
  },
  {
   "cell_type": "code",
   "execution_count": 19,
   "id": "be9ed80e-c413-4d02-a0a4-29937a0b5127",
   "metadata": {},
   "outputs": [
    {
     "data": {
      "image/png": "[encoded data removed]",
      "text/plain": [
       "<Figure size 864x432 with 1 Axes>"
      ]
     },
     "metadata": {
      "needs_background": "light"
     },
     "output_type": "display_data"
    }
   ],
   "source": [
    "# Plot the first 100 steps of the time series Y1, Y2, and Y3 on one plot\n",
    "plt.figure(figsize=(12, 6))\n",
    "\n",
    "plt.plot(Y[:100, 0], label='Y1')\n",
    "plt.plot(Y[:100, 1], label='Y2')\n",
    "plt.plot(Y[:100, 2], label='Y3')\n",
    "\n",
    "#plt.title('First 100 Steps of Y1, Y2, and Y3')\n",
    "plt.xlabel('Time')\n",
    "plt.ylabel('Values')\n",
    "plt.legend()\n",
    "plt.grid(True)"
   ]
  },
  {
   "cell_type": "code",
   "execution_count": 20,
   "id": "e6e53a6b-426d-4c03-ac7b-e61fe99d9d48",
   "metadata": {},
   "outputs": [],
   "source": [
    "time_series=Y.T"
   ]
  },
  {
   "cell_type": "code",
   "execution_count": 21,
   "id": "467ff7dc-9bca-4f6c-8172-1fb0558044ab",
   "metadata": {},
   "outputs": [],
   "source": [
    "time_series=torch.tensor(time_series)"
   ]
  },
  {
   "cell_type": "code",
   "execution_count": 22,
   "id": "f1de319f-96cb-4b3a-8636-05402f66b5de",
   "metadata": {},
   "outputs": [],
   "source": [
    "window_len=5\n",
    "num_of_timeseries=3\n",
    "\n",
    "model=DCITS(num_of_timeseries,window_len,in_ch=16,temp=1)\n",
    "model=model.to(device)\n",
    "\n",
    "loss_fn = torch.nn.MSELoss()\n",
    "optimizer = torch.optim.Adam(model.parameters(), lr=0.001,weight_decay=0.0001)"
   ]
  },
  {
   "cell_type": "code",
   "execution_count": 23,
   "id": "7b4c55e1-44d1-451a-b2f5-4a7034d1d6ff",
   "metadata": {},
   "outputs": [],
   "source": [
    "X,y=model_data_from_time_series(time_series,device,remove_first=1000,window_len=window_len)"
   ]
  },
  {
   "cell_type": "code",
   "execution_count": 24,
   "id": "657f51f0-da9f-4526-85ef-bbec4d6fd909",
   "metadata": {},
   "outputs": [],
   "source": [
    "train_one_epoch, valid_one_epoch, test_dataset=get_data_loaders_and_eval_datasets(X,y,optimizer,loss_fn,batch_size=512,shuffle=False)"
   ]
  },
  {
   "cell_type": "code",
   "execution_count": 25,
   "id": "f38ea15d-a2d4-42f6-86a7-0187f414660e",
   "metadata": {},
   "outputs": [
    {
     "name": "stdout",
     "output_type": "stream",
     "text": [
      "Epoch 1/10\n",
      "  Training Loss: 0.01636972\n",
      "  Validation Loss: 0.03011328\n",
      "Epoch 2/10\n",
      "  Training Loss: 0.01299516\n",
      "  Validation Loss: 0.02601696\n",
      "Epoch 3/10\n",
      "  Training Loss: 0.01233061\n",
      "  Validation Loss: 0.02554626\n",
      "Epoch 4/10\n",
      "  Training Loss: 0.01216997\n",
      "  Validation Loss: 0.02526989\n",
      "Epoch 5/10\n",
      "  Training Loss: 0.01211572\n",
      "  Validation Loss: 0.02518018\n",
      "Epoch 6/10\n",
      "  Training Loss: 0.01209765\n",
      "  Validation Loss: 0.02518521\n",
      "Epoch 7/10\n",
      "  Training Loss: 0.01209347\n",
      "  Validation Loss: 0.02520290\n",
      "Epoch 8/10\n",
      "  Training Loss: 0.01209030\n",
      "  Validation Loss: 0.02522097\n",
      "Epoch 9/10\n",
      "  Training Loss: 0.01208664\n",
      "  Validation Loss: 0.02522756\n",
      "Epoch 10/10\n",
      "  Training Loss: 0.01208168\n",
      "  Validation Loss: 0.02522091\n"
     ]
    }
   ],
   "source": [
    "model=train_model(model,train_one_epoch,valid_one_epoch,epochs=10,enable_writer=False,save_model=False)"
   ]
  },
  {
   "cell_type": "code",
   "execution_count": 26,
   "id": "ccf00c6a-bad9-46ef-9077-55ff40a8b1c7",
   "metadata": {},
   "outputs": [],
   "source": [
    "idx = test_dataset.indices\n",
    "x = test_dataset.dataset.X[idx]\n",
    "y, f, c = model(x)"
   ]
  },
  {
   "cell_type": "code",
   "execution_count": 27,
   "id": "50ae497d-54d8-4513-9087-6f89b321c773",
   "metadata": {},
   "outputs": [],
   "source": [
    "alpha=np.round((f*c).mean(0).detach().cpu().numpy(),2) # For clarity we round the values"
   ]
  },
  {
   "cell_type": "code",
   "execution_count": 28,
   "id": "c02e9339-ef60-4220-b53e-7676fb16879b",
   "metadata": {},
   "outputs": [
    {
     "data": {
      "text/html": [
       "\n",
       "<style>\n",
       "    .side-by-side {\n",
       "        display: flex;\n",
       "        justify-content: center;\n",
       "        gap: 5rem;  /* Small space between the tables */\n",
       "    }\n",
       "    .dataframe th, .dataframe td {\n",
       "        padding: 1rem;\n",
       "        font-size: 2.5rem;\n",
       "    }\n",
       "</style>\n"
      ],
      "text/plain": [
       "<IPython.core.display.HTML object>"
      ]
     },
     "metadata": {},
     "output_type": "display_data"
    },
    {
     "data": {
      "text/html": [
       "<div class='side-by-side'><div><h3>A1<sub>DCIts</sub></h3><table border=\"1\" class=\"dataframe\">\n",
       "  <thead>\n",
       "    <tr style=\"text-align: right;\">\n",
       "      <th></th>\n",
       "      <th>1</th>\n",
       "      <th>2</th>\n",
       "      <th>3</th>\n",
       "    </tr>\n",
       "  </thead>\n",
       "  <tbody>\n",
       "    <tr>\n",
       "      <th>0</th>\n",
       "      <td>0.41</td>\n",
       "      <td>0.11</td>\n",
       "      <td>0.06</td>\n",
       "    </tr>\n",
       "    <tr>\n",
       "      <th>1</th>\n",
       "      <td>0.13</td>\n",
       "      <td>0.38</td>\n",
       "      <td>0.10</td>\n",
       "    </tr>\n",
       "    <tr>\n",
       "      <th>2</th>\n",
       "      <td>0.06</td>\n",
       "      <td>0.10</td>\n",
       "      <td>0.38</td>\n",
       "    </tr>\n",
       "  </tbody>\n",
       "</table></div><div><h3>A1<sub>GroundTruth</sub></h3><table border=\"1\" class=\"dataframe\">\n",
       "  <thead>\n",
       "    <tr style=\"text-align: right;\">\n",
       "      <th></th>\n",
       "      <th>1</th>\n",
       "      <th>2</th>\n",
       "      <th>3</th>\n",
       "    </tr>\n",
       "  </thead>\n",
       "  <tbody>\n",
       "    <tr>\n",
       "      <th>0</th>\n",
       "      <td>0.40</td>\n",
       "      <td>0.1</td>\n",
       "      <td>0.05</td>\n",
       "    </tr>\n",
       "    <tr>\n",
       "      <th>1</th>\n",
       "      <td>0.10</td>\n",
       "      <td>0.4</td>\n",
       "      <td>0.10</td>\n",
       "    </tr>\n",
       "    <tr>\n",
       "      <th>2</th>\n",
       "      <td>0.05</td>\n",
       "      <td>0.1</td>\n",
       "      <td>0.40</td>\n",
       "    </tr>\n",
       "  </tbody>\n",
       "</table></div></div>"
      ],
      "text/plain": [
       "<IPython.core.display.HTML object>"
      ]
     },
     "metadata": {},
     "output_type": "display_data"
    }
   ],
   "source": [
    "# Lets display learned matrix with ground truth\n",
    "df_alpha = pd.DataFrame(alpha[:,:,-1], columns=[1,2,3]) # alpha[:,:,-1] coresponds to A2\n",
    "df_A1 = pd.DataFrame(A1, columns=[1,2,3])\n",
    "\n",
    "\n",
    "display(HTML(\"\"\"\n",
    "<style>\n",
    "    .side-by-side {\n",
    "        display: flex;\n",
    "        justify-content: center;\n",
    "        gap: 5rem;  /* Small space between the tables */\n",
    "    }\n",
    "    .dataframe th, .dataframe td {\n",
    "        padding: 1rem;\n",
    "        font-size: 2.5rem;\n",
    "    }\n",
    "</style>\n",
    "\"\"\"))\n",
    "\n",
    "display(HTML(\"<div class='side-by-side'>\"\n",
    "             \"<div><h3>A1<sub>DCIts</sub></h3>\" + df_alpha.to_html() + \"</div>\"\n",
    "             \"<div><h3>A1<sub>GroundTruth</sub></h3>\" + df_A1.to_html() + \"</div>\"\n",
    "             \"</div>\"))"
   ]
  },
  {
   "cell_type": "code",
   "execution_count": 29,
   "id": "5b6d54a6-ac8e-4472-b26b-a44f48511622",
   "metadata": {},
   "outputs": [
    {
     "data": {
      "text/html": [
       "\n",
       "<style>\n",
       "    .side-by-side {\n",
       "        display: flex;\n",
       "        justify-content: center;\n",
       "        gap: 5rem;  /* Small space between the tables */\n",
       "    }\n",
       "    .dataframe th, .dataframe td {\n",
       "        padding: 1rem;\n",
       "        font-size: 2.5rem;\n",
       "    }\n",
       "</style>\n"
      ],
      "text/plain": [
       "<IPython.core.display.HTML object>"
      ]
     },
     "metadata": {},
     "output_type": "display_data"
    },
    {
     "data": {
      "text/html": [
       "<div class='side-by-side'><div><h3>A2<sub>DCIts</sub></h3><table border=\"1\" class=\"dataframe\">\n",
       "  <thead>\n",
       "    <tr style=\"text-align: right;\">\n",
       "      <th></th>\n",
       "      <th>1</th>\n",
       "      <th>2</th>\n",
       "      <th>3</th>\n",
       "    </tr>\n",
       "  </thead>\n",
       "  <tbody>\n",
       "    <tr>\n",
       "      <th>0</th>\n",
       "      <td>0.19</td>\n",
       "      <td>0.05</td>\n",
       "      <td>0.00</td>\n",
       "    </tr>\n",
       "    <tr>\n",
       "      <th>1</th>\n",
       "      <td>0.06</td>\n",
       "      <td>0.21</td>\n",
       "      <td>0.04</td>\n",
       "    </tr>\n",
       "    <tr>\n",
       "      <th>2</th>\n",
       "      <td>0.03</td>\n",
       "      <td>0.06</td>\n",
       "      <td>0.21</td>\n",
       "    </tr>\n",
       "  </tbody>\n",
       "</table></div><div><h3>A2<sub>GroundTruth</sub></h3><table border=\"1\" class=\"dataframe\">\n",
       "  <thead>\n",
       "    <tr style=\"text-align: right;\">\n",
       "      <th></th>\n",
       "      <th>1</th>\n",
       "      <th>2</th>\n",
       "      <th>3</th>\n",
       "    </tr>\n",
       "  </thead>\n",
       "  <tbody>\n",
       "    <tr>\n",
       "      <th>0</th>\n",
       "      <td>0.20</td>\n",
       "      <td>0.05</td>\n",
       "      <td>0.02</td>\n",
       "    </tr>\n",
       "    <tr>\n",
       "      <th>1</th>\n",
       "      <td>0.05</td>\n",
       "      <td>0.20</td>\n",
       "      <td>0.05</td>\n",
       "    </tr>\n",
       "    <tr>\n",
       "      <th>2</th>\n",
       "      <td>0.02</td>\n",
       "      <td>0.05</td>\n",
       "      <td>0.20</td>\n",
       "    </tr>\n",
       "  </tbody>\n",
       "</table></div></div>"
      ],
      "text/plain": [
       "<IPython.core.display.HTML object>"
      ]
     },
     "metadata": {},
     "output_type": "display_data"
    }
   ],
   "source": [
    "# Lets display learned matrix with ground truth\n",
    "df_alpha = pd.DataFrame(alpha[:,:,-2], columns=[1,2,3]) # alpha[:,:,-2] coresponds to A2\n",
    "df_A2 = pd.DataFrame(A2, columns=[1,2,3])\n",
    "\n",
    "\n",
    "display(HTML(\"\"\"\n",
    "<style>\n",
    "    .side-by-side {\n",
    "        display: flex;\n",
    "        justify-content: center;\n",
    "        gap: 5rem;  /* Small space between the tables */\n",
    "    }\n",
    "    .dataframe th, .dataframe td {\n",
    "        padding: 1rem;\n",
    "        font-size: 2.5rem;\n",
    "    }\n",
    "</style>\n",
    "\"\"\"))\n",
    "\n",
    "display(HTML(\"<div class='side-by-side'>\"\n",
    "             \"<div><h3>A2<sub>DCIts</sub></h3>\" + df_alpha.to_html() + \"</div>\"\n",
    "             \"<div><h3>A2<sub>GroundTruth</sub></h3>\" + df_A2.to_html() + \"</div>\"\n",
    "             \"</div>\"))"
   ]
  },
  {
   "cell_type": "markdown",
   "id": "c6f5ba86-2fdd-433a-8c37-c9431e3a8c11",
   "metadata": {},
   "source": [
    "# Dataset 8"
   ]
  },
  {
   "cell_type": "code",
   "execution_count": 30,
   "id": "c1ca6ffc-5def-451b-aae3-98604355c324",
   "metadata": {},
   "outputs": [],
   "source": [
    "X,y=pickle.load(open('../data/dataset8.pickle','rb'))"
   ]
  },
  {
   "cell_type": "code",
   "execution_count": 31,
   "id": "eba425aa-1064-49ab-a8bf-ffcd7cb2b2d1",
   "metadata": {},
   "outputs": [],
   "source": [
    "X=torch.tensor(X).to(device)\n",
    "y=torch.tensor(y).to(device)"
   ]
  },
  {
   "cell_type": "code",
   "execution_count": 32,
   "id": "b859bd6e-031b-413b-9665-9a2b6f8d7d80",
   "metadata": {},
   "outputs": [
    {
     "data": {
      "text/plain": [
       "(torch.Size([17800, 1, 4, 10]), torch.Size([17800, 4]))"
      ]
     },
     "execution_count": 32,
     "metadata": {},
     "output_type": "execute_result"
    }
   ],
   "source": [
    "X.shape,y.shape"
   ]
  },
  {
   "cell_type": "code",
   "execution_count": 33,
   "id": "fe395e5a-0d7a-486c-860d-53d7fb6d0535",
   "metadata": {},
   "outputs": [],
   "source": [
    "num_of_timeseries=4\n",
    "\n",
    "model=DCITS(num_of_timeseries,10,in_ch=16,temp=0.1)\n",
    "model=model.to(device)\n",
    "\n",
    "loss_fn = torch.nn.MSELoss()\n",
    "optimizer = torch.optim.Adam(model.parameters(), lr=0.001,weight_decay=0.0001)"
   ]
  },
  {
   "cell_type": "code",
   "execution_count": 34,
   "id": "cbc6af56-b412-4a7f-b5fd-e9cd8f4d3fb3",
   "metadata": {},
   "outputs": [],
   "source": [
    "train_epoch, valid_epoch, test_dataset=get_data_loaders_and_eval_datasets(X,y,optimizer,loss_fn,batch_size=64)"
   ]
  },
  {
   "cell_type": "code",
   "execution_count": 35,
   "id": "a7fbd762-8657-4b2d-ad00-a37ebd9475ee",
   "metadata": {},
   "outputs": [
    {
     "name": "stdout",
     "output_type": "stream",
     "text": [
      "Epoch 1/10\n",
      "  Training Loss: 0.00152054\n",
      "  Validation Loss: 0.03250960\n",
      "Epoch 2/10\n",
      "  Training Loss: 0.00160707\n",
      "  Validation Loss: 0.02895358\n",
      "Epoch 3/10\n",
      "  Training Loss: 0.00133751\n",
      "  Validation Loss: 0.03070450\n",
      "Epoch 4/10\n",
      "  Training Loss: 0.00161053\n",
      "  Validation Loss: 0.02553642\n",
      "Epoch 5/10\n",
      "  Training Loss: 0.00087097\n",
      "  Validation Loss: 0.02471776\n",
      "Epoch 6/10\n",
      "  Training Loss: 0.00112979\n",
      "  Validation Loss: 0.02179676\n",
      "Epoch 7/10\n",
      "  Training Loss: 0.00143983\n",
      "  Validation Loss: 0.02426271\n",
      "Epoch 8/10\n",
      "  Training Loss: 0.00121104\n",
      "  Validation Loss: 0.02916986\n",
      "Epoch 9/10\n",
      "  Training Loss: 0.00092428\n",
      "  Validation Loss: 0.02070871\n",
      "Epoch 10/10\n",
      "  Training Loss: 0.00144926\n",
      "  Validation Loss: 0.02669305\n"
     ]
    }
   ],
   "source": [
    "model=train_model(model,train_epoch,valid_epoch,epochs=10,enable_writer=False,save_model=False)"
   ]
  },
  {
   "cell_type": "code",
   "execution_count": 36,
   "id": "e24eaec8-b47f-492b-9889-d2ff8e55e5ab",
   "metadata": {},
   "outputs": [],
   "source": [
    "idx = test_dataset.indices\n",
    "x = test_dataset.dataset.X[idx]\n",
    "_, f, c = model(x) \n",
    "\n",
    "alpha=(f*c).detach().cpu().numpy()\n",
    "x=x.detach().cpu().numpy()\n",
    "y=y.detach().cpu().numpy()"
   ]
  },
  {
   "cell_type": "code",
   "execution_count": 37,
   "id": "cf5c3269-2e8c-49ea-816e-ed7cd7f91511",
   "metadata": {},
   "outputs": [
    {
     "data": {
      "image/png": "[encoded data removed]",
      "text/plain": [
       "<Figure size 432x288 with 2 Axes>"
      ]
     },
     "metadata": {
      "needs_background": "light"
     },
     "output_type": "display_data"
    },
    {
     "data": {
      "image/png": "[encoded data removed]",
      "text/plain": [
       "<Figure size 432x288 with 2 Axes>"
      ]
     },
     "metadata": {
      "needs_background": "light"
     },
     "output_type": "display_data"
    },
    {
     "data": {
      "image/png": "[encoded data removed]",
      "text/plain": [
       "<Figure size 432x288 with 2 Axes>"
      ]
     },
     "metadata": {
      "needs_background": "light"
     },
     "output_type": "display_data"
    },
    {
     "data": {
      "image/png": "[encoded data removed]",
      "text/plain": [
       "<Figure size 432x288 with 2 Axes>"
      ]
     },
     "metadata": {
      "needs_background": "light"
     },
     "output_type": "display_data"
    }
   ],
   "source": [
    "# We can plot average alpha values\n",
    "alpha_plot=alpha.mean(0)\n",
    "for i in range(num_of_timeseries):\n",
    "    plt.imshow(alpha_plot[i],cmap=plt.cm.binary_r)\n",
    "    ax = plt.gca()\n",
    "    ax.set_xticks([0, 2, 4, 6, 8])\n",
    "    ax.set_xticklabels([-10, -8, -6, -4, -2])\n",
    "    plt.title(rf'$\\alpha_{i+1}$')\n",
    "    plt.colorbar()\n",
    "    plt.show()"
   ]
  },
  {
   "cell_type": "code",
   "execution_count": 38,
   "id": "582c1268-8bf9-4a49-8a94-0ef95d5c0011",
   "metadata": {},
   "outputs": [
    {
     "data": {
      "image/png": "[encoded data removed]",
      "text/plain": [
       "<Figure size 720x576 with 2 Axes>"
      ]
     },
     "metadata": {
      "needs_background": "light"
     },
     "output_type": "display_data"
    }
   ],
   "source": [
    "# Apply the condition for when X_{1,-5} is greater than 0.5 and less than or equal to 0.5\n",
    "condition_greater = x[:,0,0,-5] > 0.5\n",
    "condition_lesser = x[:,0,0,-5] <= 0.5\n",
    "\n",
    "# Data for the first histogram\n",
    "alpha21_greater = alpha[:,1,0,-5][condition_greater]\n",
    "alpha21_lesser = alpha[:,1,0,-5][condition_lesser]\n",
    "\n",
    "# Data for the second histogram\n",
    "alpha24_greater = alpha[:,1,3,-2][condition_greater]\n",
    "alpha24_lesser = alpha[:,1,3,-2][condition_lesser]\n",
    "\n",
    "fig, (ax1, ax2) = plt.subplots(2, 1, sharex=True, figsize=(10, 8))\n",
    "\n",
    "ax1.hist(alpha21_greater, bins=30, alpha=0.5, label=r'$X_{1,-5}$ over threshold', color='blue')\n",
    "ax1.hist(alpha21_lesser, bins=30, alpha=0.5, label='$X_{1,-5}$ under threshold', color='red')\n",
    "ax1.set_ylabel('Frequency')\n",
    "ax1.set_title(r'Histogram for $\\alpha_{2,1,-5}$')\n",
    "ax1.legend(loc='upper right')\n",
    "ax1.grid(True)\n",
    "\n",
    "ax2.hist(alpha24_greater, bins=30, alpha=0.5, label='$X_{1,-5}$ over threshold', color='blue')\n",
    "ax2.hist(alpha24_lesser, bins=30, alpha=0.5, label='$X_{1,-5}$ under threshold', color='red')\n",
    "ax2.set_xlabel('Value')\n",
    "ax2.set_ylabel('Frequency')\n",
    "ax2.set_title(r'Histogram for $\\alpha_{2,4,-2}$')\n",
    "ax2.legend(loc='upper right')\n",
    "ax2.grid(True)\n",
    "\n",
    "fig.tight_layout()\n"
   ]
  }
 ],
 "metadata": {
  "kernelspec": {
   "display_name": "Python [conda env:pytorch]",
   "language": "python",
   "name": "conda-env-pytorch-py"
  },
  "language_info": {
   "codemirror_mode": {
    "name": "ipython",
    "version": 3
   },
   "file_extension": ".py",
   "mimetype": "text/x-python",
   "name": "python",
   "nbconvert_exporter": "python",
   "pygments_lexer": "ipython3",
   "version": "3.9.7"
  }
 },
 "nbformat": 4,
 "nbformat_minor": 5
}
