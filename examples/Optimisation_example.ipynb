{
 "cells": [
  {
   "cell_type": "markdown",
   "id": "d0123e48-9ddd-4c4d-9110-e184aa473aec",
   "metadata": {},
   "source": [
    "# Imports"
   ]
  },
  {
   "cell_type": "code",
   "execution_count": 1,
   "id": "c843bcc1-e0c4-41f5-8b63-2b80f4af3654",
   "metadata": {},
   "outputs": [],
   "source": [
    "%load_ext autoreload\n",
    "%autoreload 2"
   ]
  },
  {
   "cell_type": "code",
   "execution_count": 2,
   "id": "88e825c0-0af2-4e36-a18f-95b1e255bd4f",
   "metadata": {},
   "outputs": [],
   "source": [
    "import sys\n",
    "sys.path.append(\"..\")"
   ]
  },
  {
   "cell_type": "code",
   "execution_count": 3,
   "id": "44d459e3-09b4-417f-8212-e03624bdb9fa",
   "metadata": {},
   "outputs": [],
   "source": [
    "import torch\n",
    "import torch.nn as nn\n",
    "import torch.nn.functional as F\n",
    "import pickle\n",
    "import numpy as np\n",
    "import pandas as pd\n",
    "from src.utils import train_and_eval,run_single_experiment\n",
    "import datetime as dt\n",
    "import os\n",
    "from IPython.display import display, Markdown\n",
    "from matplotlib import pyplot as plt\n",
    "import random"
   ]
  },
  {
   "cell_type": "code",
   "execution_count": 4,
   "id": "200df84e-1ed9-4a86-a467-518c585807d2",
   "metadata": {},
   "outputs": [],
   "source": [
    "seed=1000\n",
    "np.random.seed(seed)\n",
    "torch.manual_seed(seed)\n",
    "random.seed(seed)"
   ]
  },
  {
   "cell_type": "markdown",
   "id": "8db71366-e5ae-4d20-bb11-2f19ba64a254",
   "metadata": {},
   "source": [
    "# Prepare folders"
   ]
  },
  {
   "cell_type": "code",
   "execution_count": 5,
   "id": "7dd494b1-f7dd-40f6-86bd-d3aa5cbd09f4",
   "metadata": {},
   "outputs": [],
   "source": [
    "if not os.path.exists('../outputs/'):\n",
    "    os.makedirs('../outputs/')\n",
    "    \n",
    "if not os.path.exists('../outputs/lag'):\n",
    "    os.makedirs('../outputs/lag')\n",
    "    \n",
    "if not os.path.exists('../outputs/temperature'):\n",
    "    os.makedirs('../outputs/temperature')\n",
    "    \n",
    "if not os.path.exists('../outputs/final_result'):\n",
    "    os.makedirs('../outputs/final_result')"
   ]
  },
  {
   "cell_type": "code",
   "execution_count": 6,
   "id": "28099f62-d5f8-4da7-836c-fefb437374af",
   "metadata": {},
   "outputs": [],
   "source": [
    "ts_file_path='../data/dataset7.pickle'"
   ]
  },
  {
   "cell_type": "markdown",
   "id": "a0535b2e-c9e8-4988-8e30-11d7d1fe3206",
   "metadata": {},
   "source": [
    "# Find optimal window"
   ]
  },
  {
   "cell_type": "code",
   "execution_count": 7,
   "id": "2ceb190c-234c-4e14-921f-a074e89aaea6",
   "metadata": {},
   "outputs": [],
   "source": [
    "repeats=5\n",
    "epochs=20\n",
    "window_length=10 # Maximal window length\n",
    "mask_list=[x for x in range(1,window_length)]"
   ]
  },
  {
   "cell_type": "code",
   "execution_count": 8,
   "id": "72b690e5-2df3-4755-904b-795d688b82cc",
   "metadata": {},
   "outputs": [
    {
     "name": "stdout",
     "output_type": "stream",
     "text": [
      "Current mask: 1\n",
      "Current mask: 2\n",
      "Current mask: 3\n",
      "Current mask: 4\n",
      "Current mask: 5\n",
      "Current mask: 6\n",
      "Current mask: 7\n",
      "Current mask: 8\n",
      "Current mask: 9\n"
     ]
    }
   ],
   "source": [
    "results = []\n",
    "\n",
    "# Iterate over each mask lag value\n",
    "for mask_lag in mask_list:\n",
    "    print(f\"Current mask: {mask_lag}\")\n",
    "    # Run the single experiment for the current mask_lag\n",
    "    result = run_single_experiment(ts_file_path, '../outputs/lag', window_length,mask_lag, repeats, temperature=1,epochs=epochs)\n",
    "    results.append(result)\n",
    "\n",
    "# Convert the result list to a DataFrame\n",
    "results_df = pd.DataFrame(results)"
   ]
  },
  {
   "cell_type": "code",
   "execution_count": 9,
   "id": "0260a51d-8e73-4874-a34a-efd1637f661d",
   "metadata": {},
   "outputs": [
    {
     "name": "stdout",
     "output_type": "stream",
     "text": [
      "5\n"
     ]
    }
   ],
   "source": [
    "# Optimal timewindow is the one with lowest loss on test set\n",
    "opt_window_length=window_length-results_df.sort_values(['test_loss_mean'])['mask_lag'].values[0]\n",
    "print(opt_window_length)"
   ]
  },
  {
   "cell_type": "code",
   "execution_count": 10,
   "id": "bbb7bb7e-3693-4f18-9814-39c234c0db30",
   "metadata": {},
   "outputs": [],
   "source": [
    "# Deinfe array of temperatures to check\n",
    "temp_array=[1e-5,1e-4,1e-3,1e-2,1e-1,1,1e1,1e2,1e3,1e4,1e5]"
   ]
  },
  {
   "cell_type": "code",
   "execution_count": 11,
   "id": "b53a25a0-cbae-4b5c-8333-19ad3a319492",
   "metadata": {},
   "outputs": [
    {
     "name": "stdout",
     "output_type": "stream",
     "text": [
      "Current temperature: 1e-05\n",
      "Current temperature: 0.0001\n",
      "Current temperature: 0.001\n",
      "Current temperature: 0.01\n",
      "Current temperature: 0.1\n",
      "Current temperature: 1\n",
      "Current temperature: 10.0\n",
      "Current temperature: 100.0\n",
      "Current temperature: 1000.0\n",
      "Current temperature: 10000.0\n",
      "Current temperature: 100000.0\n"
     ]
    }
   ],
   "source": [
    "results = []\n",
    "\n",
    "# Iterate over each temperature value\n",
    "for temperature in temp_array:\n",
    "    print(f\"Current temperature: {temperature}\")\n",
    "    # Run the single experiment for the currenttemperature\n",
    "    result = run_single_experiment(ts_file_path, '../outputs/temperature', opt_window_length, 0, repeats, temperature,epochs=epochs)\n",
    "    results.append(result)\n",
    "\n",
    "# Convert the result list to a DataFrame\n",
    "results_df = pd.DataFrame(results)"
   ]
  },
  {
   "cell_type": "code",
   "execution_count": 12,
   "id": "3f516d5c-4d13-400e-bb88-cb7d2d66112f",
   "metadata": {},
   "outputs": [],
   "source": [
    "filtered_names=set(sorted([str(x.split('_')[5]) for x in os.listdir('../outputs/temperature/') ]))"
   ]
  },
  {
   "cell_type": "code",
   "execution_count": 13,
   "id": "11146b30-7e83-47f2-8bfe-baec46d99f0b",
   "metadata": {},
   "outputs": [],
   "source": [
    "opt_temperature_metric=[]\n",
    "temp_array=[]\n",
    "for name in filtered_names:\n",
    "    name=str(name)\n",
    "    # display(Markdown(f'# {name}'))\n",
    "    exp_coeffs=[x for x in sorted(os.listdir('../outputs/temperature/')) if name in x]\n",
    "    beta_list=[]\n",
    "    for coef_path in exp_coeffs:\n",
    "        # print(coef_path)\n",
    "        f,c=pickle.load(open(f'../outputs/temperature/{coef_path}','rb'))\n",
    "        beta_tilda=(f*c).abs().mean(0).sum(2)\n",
    "        beta=beta_tilda/beta_tilda.sum(1,keepdims=True)\n",
    "        beta_list.append(beta.detach().cpu().numpy().max(1).sum())\n",
    "\n",
    "    temp_array.append(float(name[11:]))\n",
    "    beta_list=np.array(beta_list)\n",
    "    opt_temperature_metric.append(beta_list.mean(0))"
   ]
  },
  {
   "cell_type": "code",
   "execution_count": 14,
   "id": "0b8d4984-da8f-44ad-9716-f9e8250f3dde",
   "metadata": {},
   "outputs": [
    {
     "data": {
      "text/html": [
       "<div>\n",
       "<style scoped>\n",
       "    .dataframe tbody tr th:only-of-type {\n",
       "        vertical-align: middle;\n",
       "    }\n",
       "\n",
       "    .dataframe tbody tr th {\n",
       "        vertical-align: top;\n",
       "    }\n",
       "\n",
       "    .dataframe thead th {\n",
       "        text-align: right;\n",
       "    }\n",
       "</style>\n",
       "<table border=\"1\" class=\"dataframe\">\n",
       "  <thead>\n",
       "    <tr style=\"text-align: right;\">\n",
       "      <th></th>\n",
       "      <th>temperature</th>\n",
       "      <th>metric</th>\n",
       "    </tr>\n",
       "  </thead>\n",
       "  <tbody>\n",
       "    <tr>\n",
       "      <th>4</th>\n",
       "      <td>0.00001</td>\n",
       "      <td>2.208345</td>\n",
       "    </tr>\n",
       "    <tr>\n",
       "      <th>3</th>\n",
       "      <td>0.00010</td>\n",
       "      <td>2.364522</td>\n",
       "    </tr>\n",
       "    <tr>\n",
       "      <th>7</th>\n",
       "      <td>0.00100</td>\n",
       "      <td>2.214108</td>\n",
       "    </tr>\n",
       "    <tr>\n",
       "      <th>5</th>\n",
       "      <td>0.01000</td>\n",
       "      <td>2.213637</td>\n",
       "    </tr>\n",
       "    <tr>\n",
       "      <th>2</th>\n",
       "      <td>0.10000</td>\n",
       "      <td>2.708968</td>\n",
       "    </tr>\n",
       "    <tr>\n",
       "      <th>8</th>\n",
       "      <td>1.00000</td>\n",
       "      <td>2.074090</td>\n",
       "    </tr>\n",
       "    <tr>\n",
       "      <th>0</th>\n",
       "      <td>10.00000</td>\n",
       "      <td>2.056819</td>\n",
       "    </tr>\n",
       "    <tr>\n",
       "      <th>6</th>\n",
       "      <td>100.00000</td>\n",
       "      <td>1.951095</td>\n",
       "    </tr>\n",
       "    <tr>\n",
       "      <th>1</th>\n",
       "      <td>1000.00000</td>\n",
       "      <td>2.054626</td>\n",
       "    </tr>\n",
       "    <tr>\n",
       "      <th>10</th>\n",
       "      <td>10000.00000</td>\n",
       "      <td>2.023815</td>\n",
       "    </tr>\n",
       "    <tr>\n",
       "      <th>9</th>\n",
       "      <td>100000.00000</td>\n",
       "      <td>2.028644</td>\n",
       "    </tr>\n",
       "  </tbody>\n",
       "</table>\n",
       "</div>"
      ],
      "text/plain": [
       "     temperature    metric\n",
       "4        0.00001  2.208345\n",
       "3        0.00010  2.364522\n",
       "7        0.00100  2.214108\n",
       "5        0.01000  2.213637\n",
       "2        0.10000  2.708968\n",
       "8        1.00000  2.074090\n",
       "0       10.00000  2.056819\n",
       "6      100.00000  1.951095\n",
       "1     1000.00000  2.054626\n",
       "10   10000.00000  2.023815\n",
       "9   100000.00000  2.028644"
      ]
     },
     "execution_count": 14,
     "metadata": {},
     "output_type": "execute_result"
    }
   ],
   "source": [
    "temp_df=pd.DataFrame({'temperature':temp_array,'metric':opt_temperature_metric})\n",
    "temp_df.sort_values(by=['temperature'])"
   ]
  },
  {
   "cell_type": "code",
   "execution_count": 15,
   "id": "f4a96851-76c5-4b92-8ae5-9ad6e69a9867",
   "metadata": {},
   "outputs": [
    {
     "data": {
      "text/plain": [
       "0.1"
      ]
     },
     "execution_count": 15,
     "metadata": {},
     "output_type": "execute_result"
    }
   ],
   "source": [
    "opt_temperature=temp_df.sort_values(by=['metric'],ascending=False)['temperature'].values[0]\n",
    "opt_temperature"
   ]
  },
  {
   "cell_type": "code",
   "execution_count": 16,
   "id": "5a68c286-37e7-40b3-aa1d-22d67b9bd8f6",
   "metadata": {},
   "outputs": [],
   "source": [
    "result = run_single_experiment(ts_file_path, '../outputs/final_result', opt_window_length, 0, repeats,opt_temperature ,epochs=epochs,save_coeffs_on_test_set=True,save_coefficients=False)"
   ]
  },
  {
   "cell_type": "code",
   "execution_count": 23,
   "id": "7777c00a-4fc6-44ac-a948-d9ab38e507ee",
   "metadata": {},
   "outputs": [
    {
     "name": "stdout",
     "output_type": "stream",
     "text": [
      "dcits_testset_20240819_170704_run1_mask0_temperature0.1_a_c.p\n",
      "dcits_testset_20240819_170754_run3_mask0_temperature0.1_a_c.p\n",
      "dcits_testset_20240819_170729_run2_mask0_temperature0.1_a_c.p\n",
      "dcits_testset_20240819_170639_run0_mask0_temperature0.1_a_c.p\n",
      "dcits_testset_20240819_170819_run4_mask0_temperature0.1_a_c.p\n"
     ]
    },
    {
     "data": {
      "image/png": "[encoded data removed]",
      "text/plain": [
       "<Figure size 432x288 with 2 Axes>"
      ]
     },
     "metadata": {
      "needs_background": "light"
     },
     "output_type": "display_data"
    },
    {
     "data": {
      "image/png": "[encoded data removed]",
      "text/plain": [
       "<Figure size 432x288 with 2 Axes>"
      ]
     },
     "metadata": {
      "needs_background": "light"
     },
     "output_type": "display_data"
    },
    {
     "data": {
      "image/png": "[encoded data removed]",
      "text/plain": [
       "<Figure size 432x288 with 2 Axes>"
      ]
     },
     "metadata": {
      "needs_background": "light"
     },
     "output_type": "display_data"
    },
    {
     "data": {
      "image/png": "[encoded data removed]",
      "text/plain": [
       "<Figure size 432x288 with 2 Axes>"
      ]
     },
     "metadata": {
      "needs_background": "light"
     },
     "output_type": "display_data"
    },
    {
     "data": {
      "image/png": "[encoded data removed]",
      "text/plain": [
       "<Figure size 432x288 with 2 Axes>"
      ]
     },
     "metadata": {
      "needs_background": "light"
     },
     "output_type": "display_data"
    }
   ],
   "source": [
    "alpha_list=[]\n",
    "beta_list=[]\n",
    "for coef_path in os.listdir('../outputs/final_result/'):\n",
    "    print(coef_path)\n",
    "    f,c=pickle.load(open(f'../outputs/final_result/{coef_path}','rb'))\n",
    "    alpha_run=(f*c).mean(dim=(0))\n",
    "    beta_run=((f*c).abs().mean(0).sum(2)/(f*c).abs().mean(0).sum(2).sum(1,keepdims=True))\n",
    "    alpha_list.append(alpha_run)\n",
    "    beta_list.append(beta_run)\n",
    "\n",
    "alpha_list=torch.stack(alpha_list)\n",
    "alpha=alpha_list.mean(0).detach().cpu().numpy()\n",
    "beta_list=torch.stack(beta_list)\n",
    "beta=beta_list.mean(0).detach().cpu().numpy()\n",
    "\n",
    "for i in range(0,alpha.shape[0]):\n",
    "    plt.imshow(alpha[i],cmap=plt.cm.binary)\n",
    "    plt.colorbar()\n",
    "    plt.title(fr'$\\alpha_{i}$')\n",
    "    plt.show()"
   ]
  },
  {
   "cell_type": "code",
   "execution_count": 21,
   "id": "757c72c4-934f-432f-8d5a-e45b5d92e253",
   "metadata": {},
   "outputs": [
    {
     "data": {
      "image/png": "[encoded data removed]",
      "text/plain": [
       "<Figure size 432x288 with 2 Axes>"
      ]
     },
     "metadata": {
      "needs_background": "light"
     },
     "output_type": "display_data"
    }
   ],
   "source": [
    "plt.imshow(beta,cmap=plt.cm.binary)\n",
    "plt.title(fr'$\\beta$')\n",
    "plt.colorbar()\n",
    "plt.show()"
   ]
  },
  {
   "cell_type": "code",
   "execution_count": 20,
   "id": "96f9f447-9385-44e3-9c18-e8f9e9ae9a96",
   "metadata": {},
   "outputs": [
    {
     "data": {
      "text/plain": [
       "array([[0.7719542 , 0.06616247, 0.04388179, 0.06224767, 0.05575393],\n",
       "       [0.4227334 , 0.2081565 , 0.13577148, 0.0635529 , 0.16978574],\n",
       "       [0.09681398, 0.40643826, 0.0807547 , 0.36212698, 0.05386613],\n",
       "       [0.17855465, 0.1309821 , 0.23802249, 0.113856  , 0.33858475],\n",
       "       [0.14477633, 0.26660013, 0.08959188, 0.10411346, 0.39491817]],\n",
       "      dtype=float32)"
      ]
     },
     "execution_count": 20,
     "metadata": {},
     "output_type": "execute_result"
    }
   ],
   "source": [
    "beta"
   ]
  },
  {
   "cell_type": "code",
   "execution_count": null,
   "id": "4eda0a24-ba52-4b41-a313-cb108e34be54",
   "metadata": {},
   "outputs": [],
   "source": []
  }
 ],
 "metadata": {
  "kernelspec": {
   "display_name": "Python [conda env:pytorch]",
   "language": "python",
   "name": "conda-env-pytorch-py"
  },
  "language_info": {
   "codemirror_mode": {
    "name": "ipython",
    "version": 3
   },
   "file_extension": ".py",
   "mimetype": "text/x-python",
   "name": "python",
   "nbconvert_exporter": "python",
   "pygments_lexer": "ipython3",
   "version": "3.9.7"
  }
 },
 "nbformat": 4,
 "nbformat_minor": 5
}
